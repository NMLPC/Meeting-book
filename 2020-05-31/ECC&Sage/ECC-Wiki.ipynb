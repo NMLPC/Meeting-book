{
 "cells": [
  {
   "cell_type": "markdown",
   "metadata": {},
   "source": [
    "2013 年 SECCON CTF quals 中的 [Cryptanalysis](https://github.com/sonickun/ctf-crypto-writeups/blob/master/2013/seccon-ctf-quals/cryptanalysis/20140127213558.png)\n",
    "## 题目描述\n",
    "$$\n",
    "y^2=x^3+1234577x+3213242 \\pmod {7654319}\n",
    "$$\n",
    "$$\n",
    "base:(5234568, 22877417)\n",
    "$$\n",
    "$$\n",
    "PublicKey = SecretKey \\times base\n",
    "$$\n",
    "$$\n",
    "crypteddata = (rand() \\times base, pbin + rand() \\times PublicKey)\n",
    "$$\n",
    "$$\n",
    "PublicKey:(2366653, 1424308)\n",
    "$$\n",
    "$$\n",
    "crypteddata:[(5081741, 6744615), (610619, 6218)]\n",
    "$$\n",
    "$$\n",
    "plain = (x, y)\n",
    "$$\n",
    "$$\n",
    "x+y = ???????(=Password)\n",
    "$$"
   ]
  },
  {
   "cell_type": "markdown",
   "metadata": {},
   "source": [
    "这道题没有经过任何的变式，和教科书上的 ECC 形式基本完全一致。\n",
    "\n",
    "a = 1234577\n",
    "\n",
    "b = 3213242\n",
    "\n",
    "M = 7654319\n",
    "\n",
    "生成元 base = E([5234568, 2287747])\n",
    "\n",
    "公钥 PublicKey = $SecretKey \\times base $= E([2366653, 1424308])\n",
    "\n",
    "密文 (C1, C2)\n",
    " = $(rand() \\times base, pbin + rand() \\times PublicKey)$\n",
    "\n",
    "= [(5081741, 6744615), (610619, 6218)]"
   ]
  },
  {
   "cell_type": "markdown",
   "metadata": {},
   "source": [
    "## 题目分析\n",
    "### ECC 分析思路"
   ]
  },
  {
   "cell_type": "markdown",
   "metadata": {},
   "source": [
    "<img src=\"image/ECC分析思路.png\" width =550>\n",
    "<p align=\"center\">\n",
    "ECC分析思路\n",
    "</p>"
   ]
  },
  {
   "cell_type": "markdown",
   "metadata": {},
   "source": [
    "<img src=\"image/ECC破解思路.png\" width = 500>\n",
    "<p align=\"center\">\n",
    "ECC破解思路\n",
    "</p>"
   ]
  },
  {
   "cell_type": "markdown",
   "metadata": {},
   "source": [
    "综上，用暴力破解的方法，根据公钥破解私钥\n",
    "\n",
    "当时在学 ECC 的是时候，虽然每个步骤都懂了，也能进行加密和解密，但是没有解析这一道题目，自己其实没有真正领略 ECC 的加密核心。\n",
    "所以算是很有收获~\n"
   ]
  },
  {
   "cell_type": "markdown",
   "metadata": {},
   "source": [
    "### 代码构建\n",
    "#### 已知条件收集\n",
    "```python\n",
    "a = 1234577\n",
    "b = 3213242\n",
    "M = 7654319\n",
    "base = (5234568, 2287747)\n",
    "pub = (2366653, 1424308)\n",
    "crypt = [(5081741, 6744615), (610619, 6218)]\n",
    "```"
   ]
  },
  {
   "cell_type": "markdown",
   "metadata": {},
   "source": [
    "#### 加法运算\n",
    "椭圆曲线下的加法运算没有现成的工具，需要自己实现。\n",
    "\n",
    "同时，算法一定已经给出了需要的参数：椭圆曲线的参数 a, b, M，有限域的本原元 base。\n"
   ]
  },
  {
   "cell_type": "code",
   "execution_count": 17,
   "metadata": {},
   "outputs": [],
   "source": [
    "a = 1234577\n",
    "b = 3213242\n",
    "M = 7654319\n",
    "def add(A, B, a, b, M):\n",
    "    if A == (0, 0): return B\n",
    "    if B == (0, 0): return A\n",
    "    x1, y1 = A\n",
    "    x2, y2 = B\n",
    "    if A != B:\n",
    "        λ = (y2 - y1) * pow((x2 - x1), M-2, M)\n",
    "    else:\n",
    "        λ = (3*x1*x1 + a) * pow(2*y1, M-2, M)\n",
    "    x3 = λ * λ - x1 - x2\n",
    "    y3 = λ * (x1 - x3) - y1\n",
    "    return (x3 % M, y3 % M)"
   ]
  },
  {
   "cell_type": "markdown",
   "metadata": {},
   "source": [
    "由于 M 是素数，所以由费马小定理可知 $(x_2 - x_1)^{M-1} = 1 \\pmod {M}$，\n",
    "\n",
    "所以 $x_2 - x_1$ 的乘法逆元是 $(x_2 - x_1)^{M-2}$，同理，$y_2 - y_1$ 的乘法逆元是 $(y_2 - y_1)^{M-2}$."
   ]
  },
  {
   "cell_type": "markdown",
   "metadata": {},
   "source": [
    "#### 爆破\n",
    "枚举密钥 x 使得 $x·Base == pub$"
   ]
  },
  {
   "cell_type": "code",
   "execution_count": 20,
   "metadata": {},
   "outputs": [
    {
     "output_type": "error",
     "ename": "Error",
     "evalue": "Jupyter cannot be started. Error attempting to locate jupyter: Select an Interpreter to start Jupyter",
     "traceback": [
      "Error: Jupyter cannot be started. Error attempting to locate jupyter: Select an Interpreter to start Jupyter",
      "at b.startServer (c:\\Users\\wcb53\\.vscode\\extensions\\ms-python.python-2020.5.80290\\out\\client\\extension.js:92:270430)",
      "at runMicrotasks (<anonymous>)",
      "at processTicksAndRejections (internal/process/task_queues.js:85:5)",
      "at async b.createServer (c:\\Users\\wcb53\\.vscode\\extensions\\ms-python.python-2020.5.80290\\out\\client\\extension.js:92:269873)",
      "at async connect (c:\\Users\\wcb53\\.vscode\\extensions\\ms-python.python-2020.5.80290\\out\\client\\extension.js:92:397876)",
      "at async w.ensureConnectionAndNotebookImpl (c:\\Users\\wcb53\\.vscode\\extensions\\ms-python.python-2020.5.80290\\out\\client\\extension.js:16:556625)",
      "at async w.ensureConnectionAndNotebook (c:\\Users\\wcb53\\.vscode\\extensions\\ms-python.python-2020.5.80290\\out\\client\\extension.js:16:556303)",
      "at async w.clearResult (c:\\Users\\wcb53\\.vscode\\extensions\\ms-python.python-2020.5.80290\\out\\client\\extension.js:16:552346)",
      "at async w.reexecuteCell (c:\\Users\\wcb53\\.vscode\\extensions\\ms-python.python-2020.5.80290\\out\\client\\extension.js:16:540374)",
      "at async w.reexecuteCells (c:\\Users\\wcb53\\.vscode\\extensions\\ms-python.python-2020.5.80290\\out\\client\\extension.js:16:537541)"
     ]
    }
   ],
   "source": [
    "base = (5234568, 2287747)\n",
    "pub = (2366653, 1424308)\n",
    "\n",
    "X = (0, 0) # 初始值\n",
    "for i in range(M):\n",
    "    if X == pub:\n",
    "        secret = i\n",
    "        print(\"Secret:\", str(i))\n",
    "        break\n",
    "    X = add(X, base, a, b, M)\n",
    "    print(i)\n",
    "# Secret: 1584718"
   ]
  },
  {
   "cell_type": "markdown",
   "metadata": {},
   "source": [
    "#### 由密钥进行解密"
   ]
  },
  {
   "cell_type": "code",
   "execution_count": 27,
   "metadata": {},
   "outputs": [
    {
     "name": "stdout",
     "output_type": "stream",
     "text": "(2171002, 3549912)\nx+y=5720914\n"
    }
   ],
   "source": [
    "cipher = [(5081741, 6744615), (610619, 6218)]\n",
    "xC1 = (0, 0)\n",
    "c1, c2 = cipher[0], cipher[1]\n",
    "for i in range(secret):\n",
    "    xC1 = add(xC1, c1, a, b, M)\n",
    "\n",
    "plaintext = add(c2, (xC1[0], -xC1[1]), a, b, M)\n",
    "print(plaintext)\n",
    "print(\"x+y=%d\"%(plaintext[0]+plaintext[1]))\n",
    "# (1629548, 7145227)"
   ]
  },
  {
   "cell_type": "markdown",
   "metadata": {},
   "source": [
    "### 封装暴力破解函数"
   ]
  },
  {
   "cell_type": "code",
   "execution_count": 50,
   "metadata": {},
   "outputs": [
    {
     "name": "stdout",
     "output_type": "stream",
     "text": "Overwriting ECC-decrypt.py\n"
    }
   ],
   "source": [
    "%%writefile ECC-decrypt.py\n",
    "# encoding=utf-8\n",
    "def add(A, B, a, b, M):\n",
    "    if A == (0, 0): return B\n",
    "    if B == (0, 0): return A\n",
    "\n",
    "    x1, y1 = A\n",
    "    x2, y2 = B\n",
    "\n",
    "    if A != B:\n",
    "        λ = (y2 - y1) * pow((x2 - x1), M-2, M)\n",
    "    else:\n",
    "        λ = (x1*x1*3 + a) * pow(2*y1, M-2, M)\n",
    "    \n",
    "    x3 = λ * λ - x1 - x2\n",
    "    y3 = λ * (x1 - x3) - y1\n",
    "    \n",
    "    return (x3 % M, y3 % M)\n",
    "\n",
    "def blasting(base, pub, M):\n",
    "    X = (0, 0) # 初始值\n",
    "    for i in range(M):\n",
    "        if X == pub:\n",
    "            secret = i\n",
    "            break\n",
    "        X = add(X, base, a, b, M)\n",
    "\n",
    "    return secret if X == pub else -1\n",
    "\n",
    "def decrypt(a, b, M, base, pub, cipher):\n",
    "    secret = blasting(base, pub, M)\n",
    "    print(secret)\n",
    "    xC1 = (0, 0)\n",
    "    c1, c2 = cipher[0], cipher[1]\n",
    "    for i in range(secret):\n",
    "        xC1 = add(xC1, c1, a, b, M)\n",
    "\n",
    "    plaintext = add(c2, (xC1[0], -xC1[1]), a, b, M)\n",
    "    return plaintext\n",
    "    # print(\"x+y=%d\"%(plaintext[0]+plaintext[1]))\n",
    "\n",
    "if __name__ == \"__main__\":\n",
    "    a = 1234577\n",
    "    b = 3213242\n",
    "    M = 7654319\n",
    "    base = (5234568, 2287747)\n",
    "    pub = (2366653, 1424308)\n",
    "    cipher = [(5081741, 6744615), (610619, 6218)]\n",
    "    plaintext = decrypt(a, b, M, base, pub, cipher)\n",
    "    print(\"x+y=%d\"%(plaintext[0]+plaintext[1]))\n",
    "    print()"
   ]
  },
  {
   "cell_type": "code",
   "execution_count": 51,
   "metadata": {},
   "outputs": [
    {
     "name": "stdout",
     "output_type": "stream",
     "text": "1584718\nx+y=5720914\n\n"
    }
   ],
   "source": [
    "%run ECC-decrypt.py"
   ]
  },
  {
   "cell_type": "markdown",
   "metadata": {},
   "source": [
    "## 其他收获"
   ]
  },
  {
   "cell_type": "markdown",
   "metadata": {},
   "source": [
    "### 小错误\n",
    "#### 1.print 格式化\n",
    "错误：`print(\"x_y=%d\"%pliantext[0]+pliantext[1])`\n",
    "正确点拨：这个是 C 语言有一点点区别，需要将格式化字符串后面的用 `%(..)` 隔离开来。\n",
    "```python\n",
    "print(\"x_y=%d\"%pliantext[0]+pliantext[1])\n",
    "```\n",
    "\n",
    "#### 2.Jupyter VSCode\n",
    "##### 2.1 LaTeX\n",
    "Jupyter notebook 的 LaTeX 中貌似不支持用 `\\\\` 表示换行符，否则网页端打开对应的 `.ipynb` 的时候会有对话框提示错误\n",
    "##### 2.2 图片\n",
    "`![]()` 或者 `<img src=\"\">`在 VSCode 的 `.ipynb` 的 Markdown 代码块中是不支持的。\n",
    "但是在 Jupyter notebook 中是可以的。"
   ]
  },
  {
   "cell_type": "markdown",
   "metadata": {},
   "source": [
    "### Tips\n",
    "#### 1.IPython魔术命令\n",
    "%timeit 、%time、 %reset、%run *.py"
   ]
  },
  {
   "cell_type": "markdown",
   "metadata": {},
   "source": [
    "%timeit\n",
    "多次执行一条语句，并返回平均时间，\n",
    "\n",
    "%%timeit\n",
    "多次执行多条语句，并返回平均时间，\n",
    "\n",
    "%time\n",
    "返回执行一条语句的时间，\n",
    "\n",
    "%%time\n",
    "返回执行多条语句的时间，"
   ]
  },
  {
   "cell_type": "code",
   "execution_count": 52,
   "metadata": {},
   "outputs": [
    {
     "name": "stdout",
     "output_type": "stream",
     "text": "Wall time: 1min 40s\n"
    }
   ],
   "source": [
    "%%time\n",
    "import time\n",
    "for i in range(100):\n",
    "    time.sleep(1)"
   ]
  },
  {
   "cell_type": "code",
   "execution_count": 54,
   "metadata": {},
   "outputs": [
    {
     "name": "stdout",
     "output_type": "stream",
     "text": "Wall time: 0 ns\n"
    }
   ],
   "source": [
    "%time\n",
    "import time\n",
    "for i in range(100):\n",
    "    time.sleep(1)\n",
    "# 这样是无效的\n"
   ]
  },
  {
   "cell_type": "code",
   "execution_count": null,
   "metadata": {},
   "outputs": [],
   "source": [
    "import time\n",
    "%time time.sleep()"
   ]
  },
  {
   "cell_type": "markdown",
   "metadata": {},
   "source": [
    "#### 2.python中`__name__`的使用\n",
    "参考：https://www.cnblogs.com/1204guo/p/7966461.html\n",
    "\n",
    "1. __name__是一个变量。前后加了爽下划线是因为是因为这是系统定义的名字。普通变量不要使用此方式命名变量。\n",
    "2. Python有很多模块，而这些模块是可以独立运行的！这点不像C++和C的头文件。\n",
    "3. import的时候是要执行所import的模块的。\n",
    "4. __name__就是标识模块的名字的一个系统变量。这里分两种情况：假如当前模块是主模块（也就是调用其他模块的模块），那么此模块名字就是__main__，通过if判断这样就可以执行“__mian__:”后面的主函数内容；假如此模块是被import的，则此模块名字为文件名字（不加后面的.py），通过if判断这样就会跳过“__mian__:”后面的内容。\n"
   ]
  },
  {
   "cell_type": "markdown",
   "metadata": {},
   "source": [
    "#### 3. 条件表达式的多种实现方法\n",
    "1.常规\n",
    "```python\n",
    "if a>b:\n",
    "    c = a\n",
    "else:\n",
    "    c = b\n",
    "```\n",
    "2.一行（类似于 `[C] ? : `三目运算符）\n",
    "```python\n",
    "c = a if a>b else b # 先执行中间的if，如果返回True，就是左边，False是右边。\n",
    "```\n",
    "我们在 `add()` 函数中用了这个。\n",
    "\n",
    "3.二维列表\n",
    "```python\n",
    "c = [b,a][a>b] #实际是[b,a][False]，因为False被转换为0，所以是[1,2][0]，也就是[1]\n",
    "    # False返回第一个，True 返回第一个。\n",
    "```"
   ]
  }
 ],
 "metadata": {
  "file_extension": ".py",
  "kernelspec": {
   "display_name": "Python 3",
   "language": "python",
   "name": "python3"
  },
  "language_info": {
   "codemirror_mode": {
    "name": "ipython",
    "version": 3
   },
   "file_extension": ".py",
   "mimetype": "text/x-python",
   "name": "python",
   "nbconvert_exporter": "python",
   "pygments_lexer": "ipython3",
   "version": "3.7.4-final"
  },
  "mimetype": "text/x-python",
  "name": "python",
  "npconvert_exporter": "python",
  "pygments_lexer": "ipython3",
  "version": 3
 },
 "nbformat": 4,
 "nbformat_minor": 2
}